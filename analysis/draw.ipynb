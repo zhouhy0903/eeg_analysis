{
 "metadata": {
  "language_info": {
   "codemirror_mode": {
    "name": "ipython",
    "version": 3
   },
   "file_extension": ".py",
   "mimetype": "text/x-python",
   "name": "python",
   "nbconvert_exporter": "python",
   "pygments_lexer": "ipython3",
   "version": "3.8.6"
  },
  "orig_nbformat": 2,
  "kernelspec": {
   "name": "python386jvsc74a57bd0a6dc62afd8b03c17538a9dfce2fcb18f62cec380cc7b77050462a64b7e4e4814",
   "display_name": "Python 3.8.6 64-bit"
  }
 },
 "nbformat": 4,
 "nbformat_minor": 2,
 "cells": [
  {
   "cell_type": "code",
   "execution_count": 17,
   "metadata": {},
   "outputs": [],
   "source": [
    "from state import get_state_raw\n",
    "import pandas as pd\n",
    "data=get_state_raw(1)"
   ]
  },
  {
   "cell_type": "code",
   "execution_count": 18,
   "metadata": {},
   "outputs": [],
   "source": [
    "start_first_shoot=data[data[\"markerText\"]==\"StartNoEmotionalShot\"].index[0]\n",
    "stop_first_shoot=data[data[\"markerText\"]==\"StopNoEmotionalShot\"].index[0]\n",
    "data=data[start_first_shoot:stop_first_shoot+1][[\"leftEyeTargetPosition\",\"rightEyeTargetPosition\",\"time\",\"markerText\"]]\n",
    "#print(data[data[\"markerText\"]==\"ShotOps\"][\"time\"].tolist())\n",
    "newdata=pd.DataFrame()\n",
    "# shottime=data[data[\"markerText\"]==\"ShotOps\"][\"time\"].tolist()\n",
    "\n",
    "data[(data[\"markerText\"]==\"ShotOps\") | (data[\"markerText\"]==\"StartNoEmotionalShot\") | (data[\"markerText\"]==\"StopNoEmotionalShot\")].to_csv(\"temp.csv\")\n",
    "\n",
    "\n"
   ]
  },
  {
   "cell_type": "code",
   "execution_count": 19,
   "metadata": {},
   "outputs": [
    {
     "output_type": "stream",
     "name": "stdout",
     "text": [
      "D:\\data\\eegemotion\\preprocess\\state-P\\aimtrack_droprepeat\nreading aimtrack from D:\\data\\eegemotion\\preprocess\\state-P\\aimtrack_droprepeat\\001_zhanghao_aimtrack.csv\n"
     ]
    }
   ],
   "source": [
    "from aimtrack import get_aimtrack\n",
    "data=get_aimtrack(1)"
   ]
  },
  {
   "cell_type": "code",
   "execution_count": 23,
   "metadata": {},
   "outputs": [],
   "source": [
    "data[data[\"exp_num\"]==1][data[\"shoot_num\"]==3].to_csv(\"track.csv\")"
   ]
  },
  {
   "cell_type": "code",
   "execution_count": null,
   "metadata": {},
   "outputs": [],
   "source": []
  }
 ]
}